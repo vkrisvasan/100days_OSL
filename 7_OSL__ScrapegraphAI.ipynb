{
  "nbformat": 4,
  "nbformat_minor": 0,
  "metadata": {
    "colab": {
      "provenance": [],
      "authorship_tag": "ABX9TyMQirKoovjgufG4UoQUhYb4",
      "include_colab_link": true
    },
    "kernelspec": {
      "name": "python3",
      "display_name": "Python 3"
    },
    "language_info": {
      "name": "python"
    }
  },
  "cells": [
    {
      "cell_type": "markdown",
      "metadata": {
        "id": "view-in-github",
        "colab_type": "text"
      },
      "source": [
        "<a href=\"https://colab.research.google.com/github/vkrisvasan/100days_OSL/blob/main/7_OSL__ScrapegraphAI.ipynb\" target=\"_parent\"><img src=\"https://colab.research.google.com/assets/colab-badge.svg\" alt=\"Open In Colab\"/></a>"
      ]
    },
    {
      "cell_type": "code",
      "execution_count": 1,
      "metadata": {
        "id": "-7ae16UQPOSn"
      },
      "outputs": [],
      "source": [
        "%%capture\n",
        "!pip install scrapegraphai==1.31.1\n",
        "!apt install chromium-chromedriver\n",
        "!pip install nest-asyncio==1.6.0\n",
        "!pip install playwright==1.48.0\n",
        "!playwright install"
      ]
    },
    {
      "cell_type": "code",
      "source": [
        "from google.colab import userdata\n",
        "import json\n",
        "from scrapegraphai.graphs import SmartScraperGraph"
      ],
      "metadata": {
        "id": "_7n8WFJhTdc7"
      },
      "execution_count": null,
      "outputs": []
    },
    {
      "cell_type": "code",
      "source": [
        "import nest_asyncio\n",
        "\n",
        "# Apply nest_asyncio to resolve event loop issues\n",
        "nest_asyncio.apply()"
      ],
      "metadata": {
        "id": "1q1ZIDqDTgRY"
      },
      "execution_count": null,
      "outputs": []
    },
    {
      "cell_type": "code",
      "source": [
        "# Replace with your actual OpenAI API key\n",
        "OPENAI_API_KEY = userdata.get('OPENAI_API_KEY')\n",
        "\n",
        "# Define configuration for ScrapegraphAI\n",
        "graph_config_openai = {\n",
        "    \"llm\": {\n",
        "        \"api_key\": userdata.get('OPENAI_API_KEY'),\n",
        "        \"model\": \"openai/gpt-4o\",\n",
        "    },\n",
        "    \"verbose\": True,\n",
        "    \"headless\": True,\n",
        "\n",
        "}"
      ],
      "metadata": {
        "id": "XAP5oZnWTjA7"
      },
      "execution_count": null,
      "outputs": []
    },
    {
      "cell_type": "code",
      "source": [
        "# Create the SmartScraperGraph instance\n",
        "smart_scraper_graph = SmartScraperGraph(\n",
        "    prompt=\"Find some information about what does the company do, the name and a contact email.\",\n",
        "    source=\"https://www.buildfastwithai.com\",\n",
        "    config=graph_config_openai\n",
        ")\n",
        "\n",
        "# Run the pipeline\n",
        "result = smart_scraper_graph.run()\n",
        "print(json.dumps(result, indent=4))"
      ],
      "metadata": {
        "id": "yjcYmukLTlkJ"
      },
      "execution_count": null,
      "outputs": []
    },
    {
      "cell_type": "code",
      "source": [
        "smart_scraper_graph = SmartScraperGraph(\n",
        "    prompt=\"Fetch the prices of all the latest LLMs\",\n",
        "    # also accepts a string with the already downloaded HTML code\n",
        "    source=\"https://openai.com/api/pricing/\",\n",
        "    config=graph_config_openai\n",
        ")\n",
        "\n",
        "result = smart_scraper_graph.run()\n",
        "\n",
        "print(json.dumps(result,indent=2))"
      ],
      "metadata": {
        "id": "iIBmkoMAToBF"
      },
      "execution_count": null,
      "outputs": []
    },
    {
      "cell_type": "code",
      "source": [
        "smart_scraper_graph = SmartScraperGraph(\n",
        "    prompt=\"Fetch all the products and their prices\",\n",
        "    # also accepts a string with the already downloaded HTML code\n",
        "    source=\"https://orae.in\",\n",
        "    config=graph_config_openai\n",
        ")\n",
        "\n",
        "result = smart_scraper_graph.run()\n",
        "\n",
        "print(json.dumps(result,indent=2))"
      ],
      "metadata": {
        "id": "Ox8eLiX6TqKf"
      },
      "execution_count": null,
      "outputs": []
    },
    {
      "cell_type": "code",
      "source": [
        "import json\n",
        "from scrapegraphai.graphs import SmartScraperMultiGraph\n",
        "\n",
        "multiple_search_graph = SmartScraperMultiGraph(\n",
        "    prompt=\"Fetch the prices of Llama Models\",\n",
        "    source= [\n",
        "        \"https://www.together.ai/pricing\",\n",
        "        \"https://deepinfra.com/\"\n",
        "        ],\n",
        "    schema=None,\n",
        "    config=graph_config_openai\n",
        ")\n",
        "\n",
        "result = multiple_search_graph.run()\n",
        "print(json.dumps(result, indent=4))"
      ],
      "metadata": {
        "id": "ytCmM2iaTsAE"
      },
      "execution_count": null,
      "outputs": []
    },
    {
      "cell_type": "code",
      "source": [
        "# Scrape job market information from multiple sources\n",
        "multiple_job_graph = SmartScraperMultiGraph(\n",
        "    prompt=\"\"\"\n",
        "    Extract current job market insights for tech roles:\n",
        "    - Average salaries for software engineers\n",
        "    - Most in-demand programming languages\n",
        "    - Top tech companies hiring\n",
        "    - Emerging job trends in tech\n",
        "    \"\"\",\n",
        "    source=[\n",
        "        \"https://www.levels.fyi/\",\n",
        "        \"https://stackoverflow.com/jobs\",\n",
        "        \"https://www.indeed.com/career/software-engineer\"\n",
        "    ],\n",
        "    config=graph_config_openai\n",
        ")\n",
        "\n",
        "# Run the multi-site scraper\n",
        "result = multiple_job_graph.run()\n",
        "print(json.dumps(result, indent=4))"
      ],
      "metadata": {
        "id": "3de4Sq-WTuHM"
      },
      "execution_count": null,
      "outputs": []
    }
  ]
}