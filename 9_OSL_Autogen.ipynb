{
  "nbformat": 4,
  "nbformat_minor": 0,
  "metadata": {
    "colab": {
      "provenance": [],
      "authorship_tag": "ABX9TyPA2wkQMUb6ET55K7zmuPFk",
      "include_colab_link": true
    },
    "kernelspec": {
      "name": "python3",
      "display_name": "Python 3"
    },
    "language_info": {
      "name": "python"
    }
  },
  "cells": [
    {
      "cell_type": "markdown",
      "metadata": {
        "id": "view-in-github",
        "colab_type": "text"
      },
      "source": [
        "<a href=\"https://colab.research.google.com/github/vkrisvasan/100days_OSL/blob/main/9_OSL_Autogen.ipynb\" target=\"_parent\"><img src=\"https://colab.research.google.com/assets/colab-badge.svg\" alt=\"Open In Colab\"/></a>"
      ]
    },
    {
      "cell_type": "code",
      "execution_count": 1,
      "metadata": {
        "id": "-7ae16UQPOSn"
      },
      "outputs": [],
      "source": [
        "!pip install groq autogen-agentchat~=0.2 httpx==0.27.2 matplotlib numpy -q"
      ]
    },
    {
      "cell_type": "code",
      "source": [
        "import os\n",
        "import getpass\n",
        "credential_names = [\"GROQ_API_KEY\"]\n",
        "for credential in credential_names:\n",
        "  if credential not in os.environ:\n",
        "    os.environ[credential]=getpass.getpass(\"Provide your...\" + credential)"
      ],
      "metadata": {
        "id": "uXMcOMI5QFZC",
        "colab": {
          "base_uri": "https://localhost:8080/"
        },
        "outputId": "e4a8974b-a347-4fe0-da86-b12c3aa25973"
      },
      "execution_count": 2,
      "outputs": [
        {
          "name": "stdout",
          "output_type": "stream",
          "text": [
            "Provide your...GROQ_API_KEY··········\n"
          ]
        }
      ]
    },
    {
      "cell_type": "code",
      "source": [
        "import os\n",
        "\n",
        "config_list = [\n",
        "    {\n",
        "        # Let's choose the Llama 3 model\n",
        "        \"model\": \"llama3-8b-8192\",\n",
        "        # Put your Groq API key here or put it into the GROQ_API_KEY environment variable.\n",
        "        \"api_key\": os.environ.get(\"GROQ_API_KEY\"),\n",
        "        # We specify the API Type as 'groq' so it uses the Groq client class\n",
        "        \"api_type\": \"groq\",\n",
        "    }\n",
        "]"
      ],
      "metadata": {
        "id": "hnMUrHFTPJZh"
      },
      "execution_count": 3,
      "outputs": []
    },
    {
      "cell_type": "code",
      "source": [
        "import os\n",
        "\n",
        "from autogen import ConversableAgent\n",
        "\n",
        "agent = ConversableAgent(\n",
        "    \"chatbot\",\n",
        "    llm_config={\"config_list\": [{\"model\": \"llama3-8b-8192\", \"api_key\": os.environ.get(\"GROQ_API_KEY\"),\"api_type\": \"groq\"}]},\n",
        "    code_execution_config=False,  # Turn off code execution, by default it is off.\n",
        "    function_map=None,  # No registered functions, by default it is None.\n",
        "    human_input_mode=\"NEVER\",  # Never ask for human input.\n",
        ")"
      ],
      "metadata": {
        "colab": {
          "base_uri": "https://localhost:8080/"
        },
        "id": "o8XsEfPpSTkz",
        "outputId": "e7894216-0fa3-47f0-e089-aecfa5e53620"
      },
      "execution_count": 4,
      "outputs": [
        {
          "output_type": "stream",
          "name": "stderr",
          "text": [
            "/usr/local/lib/python3.10/dist-packages/dask/dataframe/__init__.py:42: FutureWarning: \n",
            "Dask dataframe query planning is disabled because dask-expr is not installed.\n",
            "\n",
            "You can install it with `pip install dask[dataframe]` or `conda install dask`.\n",
            "This will raise in a future version.\n",
            "\n",
            "  warnings.warn(msg, FutureWarning)\n"
          ]
        }
      ]
    },
    {
      "cell_type": "code",
      "source": [
        "reply = agent.generate_reply(messages=[{\"content\": \"Tell me a joke.\", \"role\": \"user\"}])\n",
        "print(reply)"
      ],
      "metadata": {
        "colab": {
          "base_uri": "https://localhost:8080/"
        },
        "id": "nUWIo4-rSbsU",
        "outputId": "acdba4e6-0e60-4c44-f721-a6d65cfc1550"
      },
      "execution_count": 5,
      "outputs": [
        {
          "output_type": "stream",
          "name": "stdout",
          "text": [
            "{'content': \"Here's one:\\n\\nWhy couldn't the bicycle stand up by itself?\\n\\nBecause it was two-tired!\\n\\nHope that made you laugh!\", 'refusal': None, 'role': 'assistant', 'audio': None, 'function_call': None, 'tool_calls': None}\n"
          ]
        }
      ]
    },
    {
      "cell_type": "code",
      "source": [
        "from pathlib import Path\n",
        "\n",
        "from autogen import AssistantAgent, UserProxyAgent\n",
        "from autogen.coding import LocalCommandLineCodeExecutor\n",
        "\n",
        "# Setting up the code executor\n",
        "workdir = Path(\"coding\")\n",
        "workdir.mkdir(exist_ok=True)\n",
        "code_executor = LocalCommandLineCodeExecutor(work_dir=workdir)\n",
        "\n",
        "# Setting up the agents\n",
        "\n",
        "# The UserProxyAgent will execute the code that the AssistantAgent provides\n",
        "user_proxy_agent = UserProxyAgent(\n",
        "    name=\"User\",\n",
        "    code_execution_config={\"executor\": code_executor},\n",
        "    is_termination_msg=lambda msg: \"FINISH\" in msg.get(\"content\"),\n",
        ")\n",
        "\n",
        "system_message = \"\"\"You are a helpful AI assistant who writes code and the user executes it.\n",
        "Solve tasks using your coding and language skills.\n",
        "In the following cases, suggest python code (in a python coding block) for the user to execute.\n",
        "Solve the task step by step if you need to. If a plan is not provided, explain your plan first. Be clear which step uses code, and which step uses your language skill.\n",
        "When using code, you must indicate the script type in the code block. The user cannot provide any other feedback or perform any other action beyond executing the code you suggest. The user can't modify your code. So do not suggest incomplete code which requires users to modify. Don't use a code block if it's not intended to be executed by the user.\n",
        "Don't include multiple code blocks in one response. Do not ask users to copy and paste the result. Instead, use 'print' function for the output when relevant. Check the execution result returned by the user.\n",
        "If the result indicates there is an error, fix the error and output the code again. Suggest the full code instead of partial code or code changes. If the error can't be fixed or if the task is not solved even after the code is executed successfully, analyze the problem, revisit your assumption, collect additional info you need, and think of a different approach to try.\n",
        "When you find an answer, verify the answer carefully. Include verifiable evidence in your response if possible.\n",
        "IMPORTANT: Wait for the user to execute your code and then you can reply with the word \"FINISH\". DO NOT OUTPUT \"FINISH\" after your code block.\"\"\"\n",
        "\n",
        "# The AssistantAgent, using Groq's model, will take the coding request and return code\n",
        "assistant_agent = AssistantAgent(\n",
        "    name=\"Groq Assistant\",\n",
        "    system_message=system_message,\n",
        "    llm_config={\"config_list\": config_list},\n",
        ")"
      ],
      "metadata": {
        "id": "wTUj6RifP5-e"
      },
      "execution_count": 6,
      "outputs": []
    }
  ]
}