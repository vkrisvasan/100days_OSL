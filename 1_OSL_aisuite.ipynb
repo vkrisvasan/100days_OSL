{
  "nbformat": 4,
  "nbformat_minor": 0,
  "metadata": {
    "colab": {
      "provenance": [],
      "authorship_tag": "ABX9TyMQAZcDtU4ZtWD8EJgjiWl5",
      "include_colab_link": true
    },
    "kernelspec": {
      "name": "python3",
      "display_name": "Python 3"
    },
    "language_info": {
      "name": "python"
    }
  },
  "cells": [
    {
      "cell_type": "markdown",
      "metadata": {
        "id": "view-in-github",
        "colab_type": "text"
      },
      "source": [
        "<a href=\"https://colab.research.google.com/github/vkrisvasan/100days_OSL/blob/main/1_OSL_aisuite.ipynb\" target=\"_parent\"><img src=\"https://colab.research.google.com/assets/colab-badge.svg\" alt=\"Open In Colab\"/></a>"
      ]
    },
    {
      "cell_type": "code",
      "execution_count": 3,
      "metadata": {
        "id": "-7ae16UQPOSn"
      },
      "outputs": [],
      "source": [
        "# Install AI Suite\n",
        "!pip install aisuite[all] -q"
      ]
    },
    {
      "cell_type": "code",
      "source": [
        "import os\n",
        "import getpass\n",
        "credential_names = [\"GROQ_API_KEY\"]\n",
        "for credential in credential_names:\n",
        "  if credential not in os.environ:\n",
        "    os.environ[credential]=getpass.getpass(\"Provide your...\" + credential)"
      ],
      "metadata": {
        "colab": {
          "base_uri": "https://localhost:8080/"
        },
        "id": "uXMcOMI5QFZC",
        "outputId": "12e5e188-227f-4e8e-8015-bc7b0b78836a"
      },
      "execution_count": 7,
      "outputs": [
        {
          "name": "stdout",
          "output_type": "stream",
          "text": [
            "Provide your...GROQ_API_KEY··········\n"
          ]
        }
      ]
    },
    {
      "cell_type": "code",
      "source": [
        "import aisuite as ai\n",
        "\n",
        "# Initialize the AI client for accessing the language model\n",
        "client = ai.Client()\n",
        "\n",
        "# Define a conversation with a system message and a user message\n",
        "messages = [\n",
        "    {\"role\": \"system\", \"content\": \"You are a helpful agent, who answers with brevity.\"},\n",
        "    {\"role\": \"user\", \"content\": 'Hi, provide details about andrew ng aisuite'},\n",
        "]\n",
        "\n",
        "# Request a response from the model\n",
        "response = client.chat.completions.create(model=\"groq:llama-3.2-3b-preview\", messages=messages)\n",
        "\n",
        "# Print the model's response\n",
        "print(response.choices[0].message.content)"
      ],
      "metadata": {
        "colab": {
          "base_uri": "https://localhost:8080/"
        },
        "id": "kUQVf1TYQCH-",
        "outputId": "afc71029-0eb9-4f85-d224-ec91e467a23f"
      },
      "execution_count": 11,
      "outputs": [
        {
          "output_type": "stream",
          "name": "stdout",
          "text": [
            "Andrew Ng's AIsuite is a cloud-based, end-to-end machine learning development platform. Key features include:\n",
            "\n",
            "1. Pre-built machine learning models\n",
            "2. Pipelines for model deployment and integration\n",
            "3. Automated testing and monitoring\n",
            "4. Real-time analytics\n",
            "5. Secure access controls and scalability\n",
            "\n",
            "AIsuite allows users to build, deploy, and manage machine learning models quickly and efficiently.\n"
          ]
        }
      ]
    },
    {
      "cell_type": "code",
      "source": [
        "#This code defines a function called ask that is designed to interact with a language model, specifically Groq's LLaMa 3.2-3b-preview model, using the aisuite library\n",
        "\n",
        "def ask(message, sys_message=\"You are a helpful agent.\",\n",
        "         model=\"groq:llama-3.2-3b-preview\"):\n",
        "    # Initialize the AI client for accessing the language model\n",
        "    client = ai.Client()\n",
        "\n",
        "    # Construct the messages list for the chat\n",
        "    messages = [\n",
        "        {\"role\": \"system\", \"content\": sys_message},\n",
        "        {\"role\": \"user\", \"content\": message}\n",
        "    ]\n",
        "\n",
        "    # Send the messages to the model and get the response\n",
        "    response = client.chat.completions.create(model=model, messages=messages)\n",
        "\n",
        "    # Return the content of the model's response\n",
        "    return response.choices[0].message.content"
      ],
      "metadata": {
        "id": "S_Cx-23iShqZ"
      },
      "execution_count": 12,
      "outputs": []
    },
    {
      "cell_type": "markdown",
      "source": [],
      "metadata": {
        "id": "qbBTD_R4TTWR"
      }
    },
    {
      "cell_type": "code",
      "source": [
        "ask(\"Hi. can you provide some use cases of andrew ng aisuite ?\")"
      ],
      "metadata": {
        "colab": {
          "base_uri": "https://localhost:8080/",
          "height": 143
        },
        "id": "QNJAYQfxS4eC",
        "outputId": "08b4926a-0301-4a88-a76c-9dc7505707d2"
      },
      "execution_count": 14,
      "outputs": [
        {
          "output_type": "execute_result",
          "data": {
            "text/plain": [
              "\"Andrew Ng's AIsuite is a simplified, free, and open-source version of his Andrew Ng's Machine Learning course's assignments. Here are some use cases for AIsuite:\\n\\n1. **Personalized Recommendations**: AIsuite can be used to build a simple recommendation system. For example, you can create a system that recommends books to users based on their reading history and preferences.\\n\\n2. **Language Translation**: The AIsuite's feature of training models on the English-Wired English translation task can be utilized to create a simple language translator.\\n\\n3. **Image Classification**: You can train an image classification model on the AIsuite's dataset of 1425 images, each labeled with one of 16 classes, to classify images into these categories.\\n\\n4. **Chatbot**: You can use AIsuite to build a chatbot that responds to user queries based on patterns learned from the training data.\\n\\n5. **Sentiment Analysis**: You can train a machine learning model on the AIsuite's dataset of movie reviews to analyze the sentiment of movie reviews.\\n\\n6. **Topping 10 Product Recommendations**: You can use AIsuite to build a simple system that recommends the top 10 products to users based on their browsing and purchasing history.\\n\\n7. **Supervised Classification**: You can use AIsuite's data to train a supervised classification model for image classification tasks such as classifying spam emails, product reviews, etc.\\n\\nHere's a simple use case:\\n\\n**Use Case**: Recommend a top 5 list of movies to users based on their ratings.\\n\\n1. **Collect Data**: Collect data on users' ratings and reviews of movies from various sources.\\n\\n2. **Preprocessing**: Preprocess the collected data by removing missing values, handling categorical variables and splitting the dataset into training and testing sets.\\n\\n3. **Model Training**: While not explicitly training an AIsuite model, we can use other machine learning models (like decision trees, random forests, logistic regression, etc.) on the dataset to train a classifier.\\n\\n4. **Model Evaluation**: Evaluate the trained model using metrics like accuracy, precision, recall and F1 score.\\n\\n5. **Hyperparameter Tuning**: Perform hyperparameter tuning to maximize the performance of the trained model.\\n\\n6. **Recommendations**: Use the trained model to make movie recommendations to users.\\n\\n**Key AIsuite Use Cases:**\\n\\n* Classification\\n* Regression\\n* Clustering\\n* Dimensionality Reduction\\n\\nHowever, AIsuite itself is quite generic and should be further customized and extended to support more complex machine learning tasks.\\n\\n**Getting started:**\\n\\nBefore starting a project with AIsuite, make sure that you have the following prerequisites installed:\\n\\n* Python with the pip package manager\\n\\nTo begin, you can simply clone the repository on GitHub, install the required packages and start training and testing your models.\""
            ],
            "application/vnd.google.colaboratory.intrinsic+json": {
              "type": "string"
            }
          },
          "metadata": {},
          "execution_count": 14
        }
      ]
    },
    {
      "cell_type": "code",
      "source": [
        "#Confirm each model is using a different provider\n",
        "print(ask(\"Who is your creator?\"))\n",
        "print(ask('Who is your creator?', model='groq:llama-3.1-8b-instant'))\n",
        "#print(ask('Who is your creator?', model='openai:gpt-4o'))\n",
        "#print(ask('Who is your creator?', model='anthropic:claude-3-5-sonnet-20240620'))"
      ],
      "metadata": {
        "colab": {
          "base_uri": "https://localhost:8080/"
        },
        "id": "r4RPCxMLTULG",
        "outputId": "2a6abad6-4740-411e-a33b-d6b73f0d694d"
      },
      "execution_count": 17,
      "outputs": [
        {
          "output_type": "stream",
          "name": "stdout",
          "text": [
            "I was created by Meta AI, a company focused on developing and applying various forms of artificial intelligence.\n",
            "I was created by Meta, a company that specializes in artificial intelligence and other technologies. My primary function is to assist and communicate with users in a helpful and informative way.\n"
          ]
        }
      ]
    },
    {
      "cell_type": "code",
      "source": [
        "#Querying Multiple AI Models for a Common Question\n",
        "models = [\n",
        "    'llama-3.1-8b-instant',\n",
        "    'llama-3.2-1b-preview',\n",
        "    'llama-3.2-3b-preview',\n",
        "    'llama3-70b-8192',\n",
        "    'llama3-8b-8192'\n",
        "]\n",
        "\n",
        "# Initialize a list to hold the responses from each model\n",
        "ret = []\n",
        "\n",
        "# Loop through each model and get a response for the specified question\n",
        "for x in models:\n",
        "    ret.append(ask('Write a short one sentence on why humans need genai with a use case?', model=f'groq:{x}'))\n",
        "\n",
        "# Print the model's name and its corresponding response\n",
        "for idx, x in enumerate(ret):\n",
        "    print(models[idx] + ': \\n ' + x + ' ')"
      ],
      "metadata": {
        "colab": {
          "base_uri": "https://localhost:8080/"
        },
        "id": "K-ok6vqST0jP",
        "outputId": "d14ba801-a656-4dfa-b76b-5e9347119ba8"
      },
      "execution_count": 24,
      "outputs": [
        {
          "output_type": "stream",
          "name": "stdout",
          "text": [
            "llama-3.1-8b-instant: \n",
            " Humans need generative AI to accelerate creative breakthroughs, such as transforming traditional music composition, by using models to generate new melodies and harmonies, allowing artists to focus on refining and perfecting them. \n",
            "llama-3.2-1b-preview: \n",
            " Genetic engineering can be used to create crops resilient to severe environmental stressors, such as drought, as illustrated by the Golden Rice project, which produces vitamin-enriched rice to combat hunger in developing countries. \n",
            "llama-3.2-3b-preview: \n",
            " Humans need genetic engineering (genai) with the pioneering use case of curing inherited diseases, such as sickle cell anemia, cystic fibrosis, and muscular dystrophy, by introducing healthy copies of a faulty gene into an individual's cells to restore normal functioning. \n",
            "llama3-70b-8192: \n",
            " Humans need genai, a type of artificial general intelligence, to augment their cognitive abilities and enhance decision-making, such as in medical diagnosis where genai can analyze vast amounts of patient data and medical literature to provide accurate and personalized treatment recommendations. \n",
            "llama3-8b-8192: \n",
            " Humans need generative AI because it enables them to quickly and effortlessly create realistic and diverse data, such as synthetic images or human-like conversational responses, which can be used in applications like autonomous driving, content creation, and customer service chatbots, allowing them to innovate more efficiently and automate repetitive tasks. \n"
          ]
        }
      ]
    },
    {
      "cell_type": "code",
      "source": [
        "# List of AI model providers to query\n",
        "providers = [\n",
        "    'groq:llama3-70b-8192','groq:llama3-8b-8192','groq:llama-3.2-1b-preview'#,'openai:gpt-4o','anthropic:claude-3-5-sonnet-20240620'\n",
        "]\n",
        "\n",
        "# Initialize a list to hold the responses from each provider\n",
        "ret = []\n",
        "\n",
        "# Loop through each provider and get a response for the specified question\n",
        "for x in providers:\n",
        "    ret.append(ask('Write a short one sentence on why humans need genai with a use case?', model=x))\n",
        "\n",
        "# Print the provider's name and its corresponding response\n",
        "for idx, x in enumerate(ret):\n",
        "    print(providers[idx] + ': \\n' + x + ' \\n\\n')"
      ],
      "metadata": {
        "colab": {
          "base_uri": "https://localhost:8080/"
        },
        "id": "kWmFg79rVCA6",
        "outputId": "65197b2e-3c72-432e-d79c-af8b01107fa4"
      },
      "execution_count": 33,
      "outputs": [
        {
          "output_type": "stream",
          "name": "stdout",
          "text": [
            "groq:llama3-70b-8192: \n",
            "Humans need GenAI, a type of artificial general intelligence, to augment and amplify human capabilities, such as in the case of medical diagnosis where GenAI can analyze vast medical data and identify patterns undetectable to humans, leading to more accurate and timely diagnosis of diseases. \n",
            "\n",
            "\n",
            "groq:llama3-8b-8192: \n",
            "Humans need artificial general intelligence (AGI) to augment their cognitive abilities, such as solving complex problems or processing vast amounts of data, as exemplified by a use case where AGI-powered assistants could help medical professionals diagnose rare diseases by analyzing electronic health records and medical literature in fractions of the time it would take a human team. \n",
            "\n",
            "\n",
            "groq:llama-3.2-1b-preview: \n",
            "Genetic engineering allows humans to insert beneficial genes into crops, making them more resilient to diseases, pests, and environmental stresses, providing a solution to global food insecurity and sustainable agriculture. \n",
            "\n",
            "\n"
          ]
        }
      ]
    },
    {
      "cell_type": "code",
      "source": [
        "import random\n",
        "\n",
        "# Initialize a list to store the best responses\n",
        "best = []\n",
        "\n",
        "# Loop to generate and evaluate questions\n",
        "for _ in range(3):\n",
        "    # Shuffle the providers list to randomly select models for each iteration\n",
        "    random.shuffle(providers)\n",
        "\n",
        "    # Generate a question using the first provider\n",
        "    question = ask('Please generate a short question that is suitable for asking an LLM.', model=providers[0])\n",
        "\n",
        "    # Get answers from the second and third providers\n",
        "    answer_1 = ask('Please give a short answer to this question: ' + question, model=providers[1])\n",
        "    answer_2 = ask('Please give a short answer to this question: ' + question, model=providers[2])\n",
        "\n",
        "    # Print the generated question and the two answers\n",
        "    print(f\"Original text:\\n  {question}\\n\\n\")\n",
        "    print(f\"Option 1 text:\\n  {answer_1}\\n\\n\")\n",
        "    print(f\"Option 2 text:\\n  {answer_2}\\n\\n\")\n",
        "\n",
        "    # Store the provider names and the user's choice of the best answer\n",
        "    best.append(str(providers) + ', ' + input(\"Which is best 1 or 2. 3 if indistinguishable: \"))\n",
        ""
      ],
      "metadata": {
        "colab": {
          "base_uri": "https://localhost:8080/"
        },
        "id": "iIuy9DIhU4JJ",
        "outputId": "12af20f1-4c1f-4f60-bfe5-3669c32b69f5"
      },
      "execution_count": 35,
      "outputs": [
        {
          "name": "stdout",
          "output_type": "stream",
          "text": [
            "Original text:\n",
            "  Here is a short question suitable for asking a Large Language Model (LLM):\n",
            "\n",
            "\"What are some potential downsides to relying solely on automation for customer service, and how can businesses strike a balance between efficiency and human empathy?\"\n",
            "\n",
            "\n",
            "Option 1 text:\n",
            "  Businesses can face potential downsides to relying solely on automation for customer service, such as:\n",
            "\n",
            "- Lack of personal interaction which can erode trust and make customers feel unheard\n",
            "- Inefficient use of resources if not adapted to customer behavior\n",
            "- Decreased human touch and relationships, compromising customer satisfaction\n",
            "- Dependence on technology, potentially leading to obsolescence or technical issues\n",
            "\n",
            "To strike a balance, businesses should:\n",
            "\n",
            "- Implement human support roles that complement automation\n",
            "- Analyze customer behavior to adapt automation efficiently\n",
            "- Invest in multichannel customer service (face-to-face, social media, emails, etc.) to maintain human interaction and empathy\n",
            "\n",
            "\n",
            "Option 2 text:\n",
            "  Relying solely on automation for customer service can have several downsides, including:\n",
            "\n",
            "* Lack of personalized human connection and empathy, leading to decreased customer satisfaction and loyalty\n",
            "* Inability to handle complex or emotionally charged issues, potentially leading to negative experiences and escalating problems\n",
            "* Potential for miscommunication or misunderstandings due to limitations in natural language processing and automated decision-making\n",
            "* Risk of alienating customers who prefer human interaction and may not feel supported by automated systems\n",
            "\n",
            "To strike a balance between efficiency and human empathy, businesses can consider the following:\n",
            "\n",
            "* Implementing adaptive chatbots that can hand-off complex issues to human representatives\n",
            "* Providing human customer support for high-value or high-emotion interactions\n",
            "* Training customer service representatives to work alongside automation, using data and insights from the automated systems to inform their responses\n",
            "* Conducting regular review and improvement of automated interactions to ensure they are meeting customer needs and expectations.\n",
            "\n",
            "\n",
            "Which is best 1 or 2. 3 if indistinguishable: 1\n",
            "Original text:\n",
            "  Here is a short question suitable for asking a Large Language Model (LLM):\n",
            "\n",
            "\"What are some innovative ways to repurpose old or abandoned buildings in urban areas, and how can they benefit the local community?\"\n",
            "\n",
            "Feel free to ask me if you'd like me to generate another question!\n",
            "\n",
            "\n",
            "Option 1 text:\n",
            "  Here's a potential answer:\n",
            "\n",
            "Innovative ways to repurpose old or abandoned buildings in urban areas include:\n",
            "\n",
            "1. **Community Centers and Co-Living Spaces**: Repurposing as community centers and co-living spaces can provide affordable housing, social services, and community facilities, benefiting local residents and businesses.\n",
            "\n",
            "2. **Green Roofs and Urban Oases**: Building green roofs and urban oases can promote biodiversity, improve air quality, and provide residents with peaceful green spaces amidst the urban environment.\n",
            "\n",
            "3. **Mixed-Use Development**: Repurposing abandoned buildings into mixed-use developments, combining residential, office, and retail spaces, can revitalize underserved neighborhoods and promote economic development.\n",
            "\n",
            "4. **Art Installation and Public Art Spaces**: Abandoned buildings can be repurposed as art installations, public art spaces, or performance venues, blurring the lines between architecture, art, and community engagement.\n",
            "\n",
            "5. **Cultural Heritage Centers and Museums**: Preserving and repurposing existing buildings can create cultural heritage centers and museums, preserving our shared cultural history and connecting residents to their community's past.\n",
            "\n",
            "6. **Data Centers and Innovation Hubs**: Repurposing as data centers or innovation hubs can provide affordable and accessible computing infrastructure, supporting local businesses, startups, and entrepreneurs.\n",
            "\n",
            "7. **Education and Training Centers**: Repurposing as education and training centers can provide vocational training, workforce development, and skills development, preparing residents for local industry needs.\n",
            "\n",
            "These ideas demonstrate that repurposing old or abandoned buildings can create thriving, innovative, and inclusive communities, fostering economic growth, environmental sustainability, and social cohesion.\n",
            "\n",
            "\n",
            "Option 2 text:\n",
            "  I'd be happy to help!\n",
            "\n",
            "Here's a potential answer to the question:\n",
            "\n",
            "Repurposing old or abandoned buildings in urban areas can breathe new life into neglected spaces, revitalize neighborhoods, and benefit the local community in numerous ways. Some innovative approaches include:\n",
            "\n",
            "1. Co-working spaces: Convert abandoned warehouses or factories into shared workspaces for startups, freelancers, and small businesses, fostering a sense of community and promoting entrepreneurship.\n",
            "2. Community centers: Transform old schools, churches, or social clubs into vibrant hubs for local activities, offering classes, workshops, and events that cater to diverse interests and ages.\n",
            "3. Art districts: Redevelop neglected industrial buildings into unique art galleries, studios, and performance spaces, attracting tourists and boosting local economic growth.\n",
            "4. Affordable housing: Repurpose old buildings into affordable housing units, providing much-needed accommodation for low-income residents and seniors.\n",
            "5. Green spaces: Convert abandoned lots or rooftops into urban parks, gardens, or greenhouses, offering peaceful oases for recreation and environmental education.\n",
            "6. Food incubators: Transform old buildings into shared kitchens and food production facilities, supporting local food entrepreneurs and farmers' markets.\n",
            "7. Educational institutions: Repurpose old schools or buildings into innovative educational spaces, offering specialized programs, workshops, or vocational training.\n",
            "8. Nightlife and entertainment: Convert old buildings into unique bars, restaurants, or music venues, injecting new energy into local nightlife and attracting visitors.\n",
            "\n",
            "By repurposing old buildings, urban areas can:\n",
            "\n",
            "* Increase property values and local economic growth\n",
            "* Enhance community engagement and social cohesion\n",
            "* Promote sustainability and environmental responsibility\n",
            "* Provide affordable housing and employment opportunities\n",
            "* Foster cultural and artistic development\n",
            "* Improve overall quality of life and sense of community\n",
            "\n",
            "I hope this helps!\n",
            "\n",
            "\n",
            "Which is best 1 or 2. 3 if indistinguishable: 2\n",
            "Original text:\n",
            "  Here is a short question suitable for an LLM:\n",
            "\n",
            "\"What are the key similarities and differences between the plot structures of Dickens' 'Oliver Twist' and Gaskell's 'Mary Barton' in terms of their exploration of social class and poverty in Victorian England?\"\n",
            "\n",
            "\n",
            "Option 1 text:\n",
            "  The key similarities between the plot structures of Dickens' 'Oliver Twist' and Gaskell's 'Mary Barton' are:\n",
            "\n",
            "- Both novels focus on the struggles of the poor in Victorian England, highlighting the contrast between wealth and poverty.\n",
            "- The novels use a similar narrative structure, consisting of multiple storylines that intersect throughout the plot.\n",
            "- The characters in both novels are often set against the backdrop of social class struggle.\n",
            "- The novels also explore the theme of redemption and social reform, with Oliver Twist seeking a better life and Mary Barton fighting against the exploitation of the poor by the wealthy elite.\n",
            "- The setting is pivotal, as both novels describe the devastated industrial landscape and working-class poverty of Victorian England.\n",
            "\n",
            "Differences include:\n",
            "\n",
            "- Tone: 'Oliver Twist' tends to be more overtly satirical, emphasizing the cruelty of the system and the dangers of unchecked capitalism, while 'Mary Barton' tends to be more serious and somber, focusing on the personal experiences of the characters.\n",
            "- Characterizations: While Oliver Twist is a charismatic figure, Mary Barton is more introspective and tragic, serving as a symbol of the national lament for the poverty and suffering of the working class.\n",
            "- Themes: While social class and poverty are central to both novels, 'Mary Barton' focuses more explicitly on the human cost of industrialization, while 'Oliver Twist' explores the mechanisms of capitalism and the effects of economic systems on individuals.\n",
            "\n",
            "\n",
            "Option 2 text:\n",
            "  Here is a potential answer:\n",
            "\n",
            "Both 'Oliver Twist' and 'Mary Barton' employ similar plot structures to critique social class and poverty in Victorian England, with narratives driven by the struggles of working-class protagonists (Oliver and Mary, respectively). Both works feature romantic subplots, moral dilemmas, and dramatic twists, serving to highlight the consequences of poverty and class inequality. Key differences lie in their focus: 'Oliver Twist' targets the cruel treatment of workhouse orphans and the criminal underworld, whereas 'Mary Barton' explores the struggles of factory workers and the tensions between rich and poor in Manchester. Overall, both novels demonstrate the authors' commitment to social realism and their desire to raise awareness about the plight of the working poor during the Victorian era.\n",
            "\n",
            "\n",
            "Which is best 1 or 2. 3 if indistinguishable: 3\n"
          ]
        }
      ]
    }
  ]
}